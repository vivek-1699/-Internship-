{
 "cells": [
  {
   "cell_type": "code",
   "execution_count": 1,
   "id": "b7d87709",
   "metadata": {},
   "outputs": [
    {
     "name": "stdout",
     "output_type": "stream",
     "text": [
      "Enter a number: 10\n",
      "The factorial of 10 is 3628800\n"
     ]
    }
   ],
   "source": [
    "num = int(input(\"Enter a number: \"))    \n",
    "factorial = 1    \n",
    "if num < 0:    \n",
    "   print(\" Factorial does not exist for negative numbers\")    \n",
    "elif num == 0:    \n",
    "   print(\"The factorial of 0 is 1\")    \n",
    "else:    \n",
    "   for i in range(1,num + 1):    \n",
    "       factorial = factorial*i    \n",
    "   print(\"The factorial of\",num,\"is\",factorial) "
   ]
  },
  {
   "cell_type": "code",
   "execution_count": 2,
   "id": "bf8d78ed",
   "metadata": {},
   "outputs": [
    {
     "name": "stdout",
     "output_type": "stream",
     "text": [
      "Enter an input number:17\n",
      "17 is a prime number\n"
     ]
    }
   ],
   "source": [
    "# A default function for Prime checking conditions  \n",
    "def PrimeChecker(a):  \n",
    "    # Checking that given number is more than 1  \n",
    "    if a > 1:  \n",
    "        # Iterating over the given number with for loop  \n",
    "        for j in range(2, int(a/2) + 1):  \n",
    "            # If the given number is divisible or not  \n",
    "            if (a % j) == 0:  \n",
    "                print(a, \"is not a prime number\")  \n",
    "                break  \n",
    "        # Else it is a prime number  \n",
    "        else:  \n",
    "            print(a, \"is a prime number\")  \n",
    "    # If the given number is 1  \n",
    "    else:  \n",
    "        print(a, \"is not a prime number\")  \n",
    "# Taking an input number from the user  \n",
    "a = int(input(\"Enter an input number:\"))  \n",
    "# Printing result  \n",
    "PrimeChecker(a)  "
   ]
  },
  {
   "cell_type": "code",
   "execution_count": 3,
   "id": "677a6960",
   "metadata": {},
   "outputs": [
    {
     "name": "stdout",
     "output_type": "stream",
     "text": [
      "PALINDROME !\n"
     ]
    }
   ],
   "source": [
    "str = 'JaVaJ'  \n",
    "strstr = str.casefold()  \n",
    "  \n",
    "# This string is reverse.  \n",
    "rev = reversed(str)  \n",
    "  \n",
    "if list(str) == list(rev):  \n",
    "   print(\"PALINDROME !\")  \n",
    "else:  \n",
    "   print(\"NOT PALINDROME !\")  "
   ]
  },
  {
   "cell_type": "code",
   "execution_count": 4,
   "id": "e365fde3",
   "metadata": {},
   "outputs": [
    {
     "name": "stdout",
     "output_type": "stream",
     "text": [
      "Please Enter the Width of a Right Angled Triangle: 7\n",
      "Please Enter the Height of a Right Angled Triangle: 8\n",
      "\n",
      " Area of a right angled triangle is: 28.00\n",
      " Other side of right angled triangle is: 10.63\n",
      " Perimeter of right angled triangle is: 25.63\n"
     ]
    }
   ],
   "source": [
    "# Python Program to find Area of a Right Angled Triangle\n",
    "import math\n",
    "\n",
    "width = float(input('Please Enter the Width of a Right Angled Triangle: '))\n",
    "height = float(input('Please Enter the Height of a Right Angled Triangle: '))\n",
    "\n",
    "# calculate the area\n",
    "Area = 0.5 * width * height\n",
    "\n",
    "# calculate the Third Side\n",
    "c = math.sqrt((width*width) + (height*height))\n",
    "\n",
    "# calculate the Perimeter\n",
    "Perimeter = width + height + c\n",
    "\n",
    "print(\"\\n Area of a right angled triangle is: %.2f\" %Area)\n",
    "print(\" Other side of right angled triangle is: %.2f\" %c)\n",
    "print(\" Perimeter of right angled triangle is: %.2f\" %Perimeter)"
   ]
  },
  {
   "cell_type": "code",
   "execution_count": 7,
   "id": "eb6cb75b",
   "metadata": {},
   "outputs": [
    {
     "name": "stdout",
     "output_type": "stream",
     "text": [
      "{'g': 2, 'o': 3, 'l': 1, 'e': 1, '.': 1, 'c': 1, 'm': 1}\n"
     ]
    }
   ],
   "source": [
    "def char_frequency(str1):\n",
    "    dict = {}\n",
    "    for n in str1:\n",
    "        keys = dict.keys()\n",
    "        if n in keys:\n",
    "            dict[n] += 1\n",
    "        else:\n",
    "            dict[n] = 1\n",
    "    return dict\n",
    "print(char_frequency('google.com'))"
   ]
  },
  {
   "cell_type": "code",
   "execution_count": null,
   "id": "a01176c9",
   "metadata": {},
   "outputs": [],
   "source": []
  }
 ],
 "metadata": {
  "kernelspec": {
   "display_name": "Python 3 (ipykernel)",
   "language": "python",
   "name": "python3"
  },
  "language_info": {
   "codemirror_mode": {
    "name": "ipython",
    "version": 3
   },
   "file_extension": ".py",
   "mimetype": "text/x-python",
   "name": "python",
   "nbconvert_exporter": "python",
   "pygments_lexer": "ipython3",
   "version": "3.9.13"
  }
 },
 "nbformat": 4,
 "nbformat_minor": 5
}
